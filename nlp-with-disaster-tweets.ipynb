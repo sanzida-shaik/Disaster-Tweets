{
 "cells": [
  {
   "cell_type": "markdown",
   "id": "e0be08f1",
   "metadata": {
    "execution": {
     "iopub.execute_input": "2023-07-30T18:13:32.996753Z",
     "iopub.status.busy": "2023-07-30T18:13:32.996370Z",
     "iopub.status.idle": "2023-07-30T18:13:35.615381Z",
     "shell.execute_reply": "2023-07-30T18:13:35.614097Z",
     "shell.execute_reply.started": "2023-07-30T18:13:32.996722Z"
    },
    "papermill": {
     "duration": 0.012264,
     "end_time": "2023-07-31T04:42:26.219816",
     "exception": false,
     "start_time": "2023-07-31T04:42:26.207552",
     "status": "completed"
    },
    "tags": []
   },
   "source": [
    "* NLP with Disaster Tweets"
   ]
  },
  {
   "cell_type": "code",
   "execution_count": 1,
   "id": "2e3612a5",
   "metadata": {
    "execution": {
     "iopub.execute_input": "2023-07-31T04:42:26.242297Z",
     "iopub.status.busy": "2023-07-31T04:42:26.241775Z",
     "iopub.status.idle": "2023-07-31T04:42:28.909260Z",
     "shell.execute_reply": "2023-07-31T04:42:28.907800Z"
    },
    "papermill": {
     "duration": 2.682316,
     "end_time": "2023-07-31T04:42:28.912226",
     "exception": false,
     "start_time": "2023-07-31T04:42:26.229910",
     "status": "completed"
    },
    "tags": []
   },
   "outputs": [],
   "source": [
    "#Importing the necessary libraries\n",
    "import pandas as pd \n",
    "import numpy as np\n",
    "import matplotlib.pyplot as plt\n",
    "import seaborn as sns\n",
    "import nltk\n",
    "from sklearn import datasets"
   ]
  },
  {
   "cell_type": "code",
   "execution_count": 2,
   "id": "68dda3b8",
   "metadata": {
    "execution": {
     "iopub.execute_input": "2023-07-31T04:42:28.934464Z",
     "iopub.status.busy": "2023-07-31T04:42:28.934082Z",
     "iopub.status.idle": "2023-07-31T04:42:28.993979Z",
     "shell.execute_reply": "2023-07-31T04:42:28.992831Z"
    },
    "papermill": {
     "duration": 0.074144,
     "end_time": "2023-07-31T04:42:28.996644",
     "exception": false,
     "start_time": "2023-07-31T04:42:28.922500",
     "status": "completed"
    },
    "tags": []
   },
   "outputs": [],
   "source": [
    "#Exporting the data\n",
    "data = pd.read_csv('/kaggle/input/nlp-getting-started/train.csv')"
   ]
  },
  {
   "cell_type": "code",
   "execution_count": 3,
   "id": "eb6ff2cb",
   "metadata": {
    "execution": {
     "iopub.execute_input": "2023-07-31T04:42:29.020579Z",
     "iopub.status.busy": "2023-07-31T04:42:29.019931Z",
     "iopub.status.idle": "2023-07-31T04:42:29.051887Z",
     "shell.execute_reply": "2023-07-31T04:42:29.050618Z"
    },
    "papermill": {
     "duration": 0.047368,
     "end_time": "2023-07-31T04:42:29.054650",
     "exception": false,
     "start_time": "2023-07-31T04:42:29.007282",
     "status": "completed"
    },
    "tags": []
   },
   "outputs": [
    {
     "data": {
      "text/html": [
       "<div>\n",
       "<style scoped>\n",
       "    .dataframe tbody tr th:only-of-type {\n",
       "        vertical-align: middle;\n",
       "    }\n",
       "\n",
       "    .dataframe tbody tr th {\n",
       "        vertical-align: top;\n",
       "    }\n",
       "\n",
       "    .dataframe thead th {\n",
       "        text-align: right;\n",
       "    }\n",
       "</style>\n",
       "<table border=\"1\" class=\"dataframe\">\n",
       "  <thead>\n",
       "    <tr style=\"text-align: right;\">\n",
       "      <th></th>\n",
       "      <th>id</th>\n",
       "      <th>keyword</th>\n",
       "      <th>location</th>\n",
       "      <th>text</th>\n",
       "      <th>target</th>\n",
       "    </tr>\n",
       "  </thead>\n",
       "  <tbody>\n",
       "    <tr>\n",
       "      <th>0</th>\n",
       "      <td>1</td>\n",
       "      <td>NaN</td>\n",
       "      <td>NaN</td>\n",
       "      <td>Our Deeds are the Reason of this #earthquake M...</td>\n",
       "      <td>1</td>\n",
       "    </tr>\n",
       "    <tr>\n",
       "      <th>1</th>\n",
       "      <td>4</td>\n",
       "      <td>NaN</td>\n",
       "      <td>NaN</td>\n",
       "      <td>Forest fire near La Ronge Sask. Canada</td>\n",
       "      <td>1</td>\n",
       "    </tr>\n",
       "    <tr>\n",
       "      <th>2</th>\n",
       "      <td>5</td>\n",
       "      <td>NaN</td>\n",
       "      <td>NaN</td>\n",
       "      <td>All residents asked to 'shelter in place' are ...</td>\n",
       "      <td>1</td>\n",
       "    </tr>\n",
       "    <tr>\n",
       "      <th>3</th>\n",
       "      <td>6</td>\n",
       "      <td>NaN</td>\n",
       "      <td>NaN</td>\n",
       "      <td>13,000 people receive #wildfires evacuation or...</td>\n",
       "      <td>1</td>\n",
       "    </tr>\n",
       "    <tr>\n",
       "      <th>4</th>\n",
       "      <td>7</td>\n",
       "      <td>NaN</td>\n",
       "      <td>NaN</td>\n",
       "      <td>Just got sent this photo from Ruby #Alaska as ...</td>\n",
       "      <td>1</td>\n",
       "    </tr>\n",
       "  </tbody>\n",
       "</table>\n",
       "</div>"
      ],
      "text/plain": [
       "   id keyword location                                               text  \\\n",
       "0   1     NaN      NaN  Our Deeds are the Reason of this #earthquake M...   \n",
       "1   4     NaN      NaN             Forest fire near La Ronge Sask. Canada   \n",
       "2   5     NaN      NaN  All residents asked to 'shelter in place' are ...   \n",
       "3   6     NaN      NaN  13,000 people receive #wildfires evacuation or...   \n",
       "4   7     NaN      NaN  Just got sent this photo from Ruby #Alaska as ...   \n",
       "\n",
       "   target  \n",
       "0       1  \n",
       "1       1  \n",
       "2       1  \n",
       "3       1  \n",
       "4       1  "
      ]
     },
     "execution_count": 3,
     "metadata": {},
     "output_type": "execute_result"
    }
   ],
   "source": [
    "#Exploratory data analysis (EDA)\n",
    "data.head(5)"
   ]
  },
  {
   "cell_type": "code",
   "execution_count": 4,
   "id": "641de632",
   "metadata": {
    "execution": {
     "iopub.execute_input": "2023-07-31T04:42:29.078026Z",
     "iopub.status.busy": "2023-07-31T04:42:29.077538Z",
     "iopub.status.idle": "2023-07-31T04:42:29.090096Z",
     "shell.execute_reply": "2023-07-31T04:42:29.088840Z"
    },
    "papermill": {
     "duration": 0.02769,
     "end_time": "2023-07-31T04:42:29.092824",
     "exception": false,
     "start_time": "2023-07-31T04:42:29.065134",
     "status": "completed"
    },
    "tags": []
   },
   "outputs": [
    {
     "data": {
      "text/html": [
       "<div>\n",
       "<style scoped>\n",
       "    .dataframe tbody tr th:only-of-type {\n",
       "        vertical-align: middle;\n",
       "    }\n",
       "\n",
       "    .dataframe tbody tr th {\n",
       "        vertical-align: top;\n",
       "    }\n",
       "\n",
       "    .dataframe thead th {\n",
       "        text-align: right;\n",
       "    }\n",
       "</style>\n",
       "<table border=\"1\" class=\"dataframe\">\n",
       "  <thead>\n",
       "    <tr style=\"text-align: right;\">\n",
       "      <th></th>\n",
       "      <th>id</th>\n",
       "      <th>keyword</th>\n",
       "      <th>location</th>\n",
       "      <th>text</th>\n",
       "      <th>target</th>\n",
       "    </tr>\n",
       "  </thead>\n",
       "  <tbody>\n",
       "    <tr>\n",
       "      <th>7608</th>\n",
       "      <td>10869</td>\n",
       "      <td>NaN</td>\n",
       "      <td>NaN</td>\n",
       "      <td>Two giant cranes holding a bridge collapse int...</td>\n",
       "      <td>1</td>\n",
       "    </tr>\n",
       "    <tr>\n",
       "      <th>7609</th>\n",
       "      <td>10870</td>\n",
       "      <td>NaN</td>\n",
       "      <td>NaN</td>\n",
       "      <td>@aria_ahrary @TheTawniest The out of control w...</td>\n",
       "      <td>1</td>\n",
       "    </tr>\n",
       "    <tr>\n",
       "      <th>7610</th>\n",
       "      <td>10871</td>\n",
       "      <td>NaN</td>\n",
       "      <td>NaN</td>\n",
       "      <td>M1.94 [01:04 UTC]?5km S of Volcano Hawaii. htt...</td>\n",
       "      <td>1</td>\n",
       "    </tr>\n",
       "    <tr>\n",
       "      <th>7611</th>\n",
       "      <td>10872</td>\n",
       "      <td>NaN</td>\n",
       "      <td>NaN</td>\n",
       "      <td>Police investigating after an e-bike collided ...</td>\n",
       "      <td>1</td>\n",
       "    </tr>\n",
       "    <tr>\n",
       "      <th>7612</th>\n",
       "      <td>10873</td>\n",
       "      <td>NaN</td>\n",
       "      <td>NaN</td>\n",
       "      <td>The Latest: More Homes Razed by Northern Calif...</td>\n",
       "      <td>1</td>\n",
       "    </tr>\n",
       "  </tbody>\n",
       "</table>\n",
       "</div>"
      ],
      "text/plain": [
       "         id keyword location  \\\n",
       "7608  10869     NaN      NaN   \n",
       "7609  10870     NaN      NaN   \n",
       "7610  10871     NaN      NaN   \n",
       "7611  10872     NaN      NaN   \n",
       "7612  10873     NaN      NaN   \n",
       "\n",
       "                                                   text  target  \n",
       "7608  Two giant cranes holding a bridge collapse int...       1  \n",
       "7609  @aria_ahrary @TheTawniest The out of control w...       1  \n",
       "7610  M1.94 [01:04 UTC]?5km S of Volcano Hawaii. htt...       1  \n",
       "7611  Police investigating after an e-bike collided ...       1  \n",
       "7612  The Latest: More Homes Razed by Northern Calif...       1  "
      ]
     },
     "execution_count": 4,
     "metadata": {},
     "output_type": "execute_result"
    }
   ],
   "source": [
    "data.tail()"
   ]
  },
  {
   "cell_type": "code",
   "execution_count": 5,
   "id": "260d731d",
   "metadata": {
    "execution": {
     "iopub.execute_input": "2023-07-31T04:42:29.117126Z",
     "iopub.status.busy": "2023-07-31T04:42:29.115899Z",
     "iopub.status.idle": "2023-07-31T04:42:29.141952Z",
     "shell.execute_reply": "2023-07-31T04:42:29.140701Z"
    },
    "papermill": {
     "duration": 0.041022,
     "end_time": "2023-07-31T04:42:29.144596",
     "exception": false,
     "start_time": "2023-07-31T04:42:29.103574",
     "status": "completed"
    },
    "tags": []
   },
   "outputs": [
    {
     "data": {
      "text/html": [
       "<div>\n",
       "<style scoped>\n",
       "    .dataframe tbody tr th:only-of-type {\n",
       "        vertical-align: middle;\n",
       "    }\n",
       "\n",
       "    .dataframe tbody tr th {\n",
       "        vertical-align: top;\n",
       "    }\n",
       "\n",
       "    .dataframe thead th {\n",
       "        text-align: right;\n",
       "    }\n",
       "</style>\n",
       "<table border=\"1\" class=\"dataframe\">\n",
       "  <thead>\n",
       "    <tr style=\"text-align: right;\">\n",
       "      <th></th>\n",
       "      <th>id</th>\n",
       "      <th>target</th>\n",
       "    </tr>\n",
       "  </thead>\n",
       "  <tbody>\n",
       "    <tr>\n",
       "      <th>count</th>\n",
       "      <td>7613.000000</td>\n",
       "      <td>7613.00000</td>\n",
       "    </tr>\n",
       "    <tr>\n",
       "      <th>mean</th>\n",
       "      <td>5441.934848</td>\n",
       "      <td>0.42966</td>\n",
       "    </tr>\n",
       "    <tr>\n",
       "      <th>std</th>\n",
       "      <td>3137.116090</td>\n",
       "      <td>0.49506</td>\n",
       "    </tr>\n",
       "    <tr>\n",
       "      <th>min</th>\n",
       "      <td>1.000000</td>\n",
       "      <td>0.00000</td>\n",
       "    </tr>\n",
       "    <tr>\n",
       "      <th>25%</th>\n",
       "      <td>2734.000000</td>\n",
       "      <td>0.00000</td>\n",
       "    </tr>\n",
       "    <tr>\n",
       "      <th>50%</th>\n",
       "      <td>5408.000000</td>\n",
       "      <td>0.00000</td>\n",
       "    </tr>\n",
       "    <tr>\n",
       "      <th>75%</th>\n",
       "      <td>8146.000000</td>\n",
       "      <td>1.00000</td>\n",
       "    </tr>\n",
       "    <tr>\n",
       "      <th>max</th>\n",
       "      <td>10873.000000</td>\n",
       "      <td>1.00000</td>\n",
       "    </tr>\n",
       "  </tbody>\n",
       "</table>\n",
       "</div>"
      ],
      "text/plain": [
       "                 id      target\n",
       "count   7613.000000  7613.00000\n",
       "mean    5441.934848     0.42966\n",
       "std     3137.116090     0.49506\n",
       "min        1.000000     0.00000\n",
       "25%     2734.000000     0.00000\n",
       "50%     5408.000000     0.00000\n",
       "75%     8146.000000     1.00000\n",
       "max    10873.000000     1.00000"
      ]
     },
     "execution_count": 5,
     "metadata": {},
     "output_type": "execute_result"
    }
   ],
   "source": [
    "data.describe()"
   ]
  },
  {
   "cell_type": "code",
   "execution_count": 6,
   "id": "3eac28b4",
   "metadata": {
    "execution": {
     "iopub.execute_input": "2023-07-31T04:42:29.168563Z",
     "iopub.status.busy": "2023-07-31T04:42:29.168116Z",
     "iopub.status.idle": "2023-07-31T04:42:29.175641Z",
     "shell.execute_reply": "2023-07-31T04:42:29.174322Z"
    },
    "papermill": {
     "duration": 0.022774,
     "end_time": "2023-07-31T04:42:29.178531",
     "exception": false,
     "start_time": "2023-07-31T04:42:29.155757",
     "status": "completed"
    },
    "tags": []
   },
   "outputs": [
    {
     "data": {
      "text/plain": [
       "(7613, 5)"
      ]
     },
     "execution_count": 6,
     "metadata": {},
     "output_type": "execute_result"
    }
   ],
   "source": [
    "data.shape"
   ]
  },
  {
   "cell_type": "code",
   "execution_count": 7,
   "id": "ff6b60dd",
   "metadata": {
    "execution": {
     "iopub.execute_input": "2023-07-31T04:42:29.203389Z",
     "iopub.status.busy": "2023-07-31T04:42:29.202524Z",
     "iopub.status.idle": "2023-07-31T04:42:29.220365Z",
     "shell.execute_reply": "2023-07-31T04:42:29.219164Z"
    },
    "papermill": {
     "duration": 0.032787,
     "end_time": "2023-07-31T04:42:29.223043",
     "exception": false,
     "start_time": "2023-07-31T04:42:29.190256",
     "status": "completed"
    },
    "tags": []
   },
   "outputs": [
    {
     "data": {
      "text/plain": [
       "id             0\n",
       "keyword       61\n",
       "location    2533\n",
       "text           0\n",
       "target         0\n",
       "dtype: int64"
      ]
     },
     "execution_count": 7,
     "metadata": {},
     "output_type": "execute_result"
    }
   ],
   "source": [
    "data.isnull().sum()"
   ]
  },
  {
   "cell_type": "code",
   "execution_count": 8,
   "id": "17a753f8",
   "metadata": {
    "execution": {
     "iopub.execute_input": "2023-07-31T04:42:29.247360Z",
     "iopub.status.busy": "2023-07-31T04:42:29.246966Z",
     "iopub.status.idle": "2023-07-31T04:42:29.286967Z",
     "shell.execute_reply": "2023-07-31T04:42:29.285482Z"
    },
    "papermill": {
     "duration": 0.056497,
     "end_time": "2023-07-31T04:42:29.290797",
     "exception": false,
     "start_time": "2023-07-31T04:42:29.234300",
     "status": "completed"
    },
    "tags": []
   },
   "outputs": [
    {
     "name": "stdout",
     "output_type": "stream",
     "text": [
      "<class 'pandas.core.frame.DataFrame'>\n",
      "Int64Index: 5080 entries, 31 to 7581\n",
      "Data columns (total 5 columns):\n",
      " #   Column    Non-Null Count  Dtype \n",
      "---  ------    --------------  ----- \n",
      " 0   id        5080 non-null   int64 \n",
      " 1   keyword   5080 non-null   object\n",
      " 2   location  5080 non-null   object\n",
      " 3   text      5080 non-null   object\n",
      " 4   target    5080 non-null   int64 \n",
      "dtypes: int64(2), object(3)\n",
      "memory usage: 238.1+ KB\n"
     ]
    }
   ],
   "source": [
    "data.dropna(inplace=True)\n",
    "data.info()"
   ]
  },
  {
   "cell_type": "code",
   "execution_count": 9,
   "id": "8869ad6e",
   "metadata": {
    "execution": {
     "iopub.execute_input": "2023-07-31T04:42:29.315938Z",
     "iopub.status.busy": "2023-07-31T04:42:29.315433Z",
     "iopub.status.idle": "2023-07-31T04:42:29.324870Z",
     "shell.execute_reply": "2023-07-31T04:42:29.323724Z"
    },
    "papermill": {
     "duration": 0.025189,
     "end_time": "2023-07-31T04:42:29.327407",
     "exception": false,
     "start_time": "2023-07-31T04:42:29.302218",
     "status": "completed"
    },
    "tags": []
   },
   "outputs": [
    {
     "data": {
      "text/plain": [
       "array([1, 0])"
      ]
     },
     "execution_count": 9,
     "metadata": {},
     "output_type": "execute_result"
    }
   ],
   "source": [
    "data['target'].unique()"
   ]
  },
  {
   "cell_type": "code",
   "execution_count": 10,
   "id": "a4e80c8f",
   "metadata": {
    "execution": {
     "iopub.execute_input": "2023-07-31T04:42:29.352263Z",
     "iopub.status.busy": "2023-07-31T04:42:29.351868Z",
     "iopub.status.idle": "2023-07-31T04:42:29.371812Z",
     "shell.execute_reply": "2023-07-31T04:42:29.370444Z"
    },
    "papermill": {
     "duration": 0.035859,
     "end_time": "2023-07-31T04:42:29.374632",
     "exception": false,
     "start_time": "2023-07-31T04:42:29.338773",
     "status": "completed"
    },
    "tags": []
   },
   "outputs": [
    {
     "data": {
      "text/html": [
       "<div>\n",
       "<style scoped>\n",
       "    .dataframe tbody tr th:only-of-type {\n",
       "        vertical-align: middle;\n",
       "    }\n",
       "\n",
       "    .dataframe tbody tr th {\n",
       "        vertical-align: top;\n",
       "    }\n",
       "\n",
       "    .dataframe thead th {\n",
       "        text-align: right;\n",
       "    }\n",
       "</style>\n",
       "<table border=\"1\" class=\"dataframe\">\n",
       "  <thead>\n",
       "    <tr style=\"text-align: right;\">\n",
       "      <th></th>\n",
       "      <th>target</th>\n",
       "      <th>text</th>\n",
       "    </tr>\n",
       "  </thead>\n",
       "  <tbody>\n",
       "    <tr>\n",
       "      <th>0</th>\n",
       "      <td>0</td>\n",
       "      <td>2884</td>\n",
       "    </tr>\n",
       "    <tr>\n",
       "      <th>1</th>\n",
       "      <td>1</td>\n",
       "      <td>2196</td>\n",
       "    </tr>\n",
       "  </tbody>\n",
       "</table>\n",
       "</div>"
      ],
      "text/plain": [
       "   target  text\n",
       "0       0  2884\n",
       "1       1  2196"
      ]
     },
     "execution_count": 10,
     "metadata": {},
     "output_type": "execute_result"
    }
   ],
   "source": [
    "temp = data.groupby('target').count()['text'].reset_index().sort_values(by='text',ascending=False)\n",
    "temp"
   ]
  },
  {
   "cell_type": "code",
   "execution_count": 11,
   "id": "952a5867",
   "metadata": {
    "execution": {
     "iopub.execute_input": "2023-07-31T04:42:29.399960Z",
     "iopub.status.busy": "2023-07-31T04:42:29.399433Z",
     "iopub.status.idle": "2023-07-31T04:42:29.672260Z",
     "shell.execute_reply": "2023-07-31T04:42:29.670931Z"
    },
    "papermill": {
     "duration": 0.288693,
     "end_time": "2023-07-31T04:42:29.675057",
     "exception": false,
     "start_time": "2023-07-31T04:42:29.386364",
     "status": "completed"
    },
    "tags": []
   },
   "outputs": [
    {
     "data": {
      "text/plain": [
       "<Axes: xlabel='target', ylabel='count'>"
      ]
     },
     "execution_count": 11,
     "metadata": {},
     "output_type": "execute_result"
    },
    {
     "data": {
      "image/png": "[encoded data removed]",
      "text/plain": [
       "<Figure size 640x480 with 1 Axes>"
      ]
     },
     "metadata": {},
     "output_type": "display_data"
    }
   ],
   "source": [
    "plt.figure()\n",
    "sns.countplot(x = 'target', data = data)"
   ]
  },
  {
   "cell_type": "code",
   "execution_count": 12,
   "id": "73ca96d3",
   "metadata": {
    "execution": {
     "iopub.execute_input": "2023-07-31T04:42:29.701238Z",
     "iopub.status.busy": "2023-07-31T04:42:29.700838Z",
     "iopub.status.idle": "2023-07-31T04:42:30.098433Z",
     "shell.execute_reply": "2023-07-31T04:42:30.096877Z"
    },
    "papermill": {
     "duration": 0.414651,
     "end_time": "2023-07-31T04:42:30.101847",
     "exception": false,
     "start_time": "2023-07-31T04:42:29.687196",
     "status": "completed"
    },
    "tags": []
   },
   "outputs": [
    {
     "data": {
      "image/png": "[encoded data removed]",
      "text/plain": [
       "<Figure size 640x480 with 1 Axes>"
      ]
     },
     "metadata": {},
     "output_type": "display_data"
    }
   ],
   "source": [
    "#Histogram for number of words\n",
    "def plot_word_number_histogram(text):\n",
    "    text.str.split().\\\n",
    "        map(lambda x: len(x)).\\\n",
    "        hist()\n",
    "plot_word_number_histogram(data['text'])"
   ]
  },
  {
   "cell_type": "code",
   "execution_count": 13,
   "id": "a27c27bc",
   "metadata": {
    "execution": {
     "iopub.execute_input": "2023-07-31T04:42:30.129363Z",
     "iopub.status.busy": "2023-07-31T04:42:30.128934Z",
     "iopub.status.idle": "2023-07-31T04:42:30.750500Z",
     "shell.execute_reply": "2023-07-31T04:42:30.749005Z"
    },
    "papermill": {
     "duration": 0.638841,
     "end_time": "2023-07-31T04:42:30.753143",
     "exception": false,
     "start_time": "2023-07-31T04:42:30.114302",
     "status": "completed"
    },
    "tags": []
   },
   "outputs": [
    {
     "data": {
      "image/png": "[encoded data removed]",
      "text/plain": [
       "<Figure size 640x480 with 1 Axes>"
      ]
     },
     "metadata": {},
     "output_type": "display_data"
    }
   ],
   "source": [
    "#Average word length in each sentence is\n",
    "def plot_word_length_histogram(text):\n",
    "    text.str.split().\\\n",
    "        apply(lambda x : [len(i) for i in x]). \\\n",
    "        map(lambda x: np.mean(x)).\\\n",
    "        hist()\n",
    "plot_word_length_histogram(data['text'])"
   ]
  },
  {
   "cell_type": "code",
   "execution_count": 14,
   "id": "4fdf19f5",
   "metadata": {
    "execution": {
     "iopub.execute_input": "2023-07-31T04:42:30.780818Z",
     "iopub.status.busy": "2023-07-31T04:42:30.780399Z",
     "iopub.status.idle": "2023-07-31T04:42:30.874309Z",
     "shell.execute_reply": "2023-07-31T04:42:30.872776Z"
    },
    "papermill": {
     "duration": 0.11086,
     "end_time": "2023-07-31T04:42:30.877086",
     "exception": false,
     "start_time": "2023-07-31T04:42:30.766226",
     "status": "completed"
    },
    "tags": []
   },
   "outputs": [
    {
     "name": "stderr",
     "output_type": "stream",
     "text": [
      "/tmp/ipykernel_20/262015213.py:3: FutureWarning: The default value of regex will change from True to False in a future version.\n",
      "  df[text_field] = df[text_field].str.replace(r\"http\\S+\", \"\")\n",
      "/tmp/ipykernel_20/262015213.py:5: FutureWarning: The default value of regex will change from True to False in a future version.\n",
      "  df[text_field] = df[text_field].str.replace(r\"@\\S+\", \"\")\n",
      "/tmp/ipykernel_20/262015213.py:6: FutureWarning: The default value of regex will change from True to False in a future version.\n",
      "  df[text_field] = df[text_field].str.replace(r\"[^A-Za-z0-9(),!?@\\'\\`\\\"\\_\\n]\", \" \")\n"
     ]
    },
    {
     "data": {
      "text/html": [
       "<div>\n",
       "<style scoped>\n",
       "    .dataframe tbody tr th:only-of-type {\n",
       "        vertical-align: middle;\n",
       "    }\n",
       "\n",
       "    .dataframe tbody tr th {\n",
       "        vertical-align: top;\n",
       "    }\n",
       "\n",
       "    .dataframe thead th {\n",
       "        text-align: right;\n",
       "    }\n",
       "</style>\n",
       "<table border=\"1\" class=\"dataframe\">\n",
       "  <thead>\n",
       "    <tr style=\"text-align: right;\">\n",
       "      <th></th>\n",
       "      <th>id</th>\n",
       "      <th>keyword</th>\n",
       "      <th>location</th>\n",
       "      <th>text</th>\n",
       "      <th>target</th>\n",
       "    </tr>\n",
       "  </thead>\n",
       "  <tbody>\n",
       "    <tr>\n",
       "      <th>31</th>\n",
       "      <td>48</td>\n",
       "      <td>ablaze</td>\n",
       "      <td>Birmingham</td>\n",
       "      <td>wholesale markets ablaze</td>\n",
       "      <td>1</td>\n",
       "    </tr>\n",
       "    <tr>\n",
       "      <th>32</th>\n",
       "      <td>49</td>\n",
       "      <td>ablaze</td>\n",
       "      <td>Est. September 2012 - Bristol</td>\n",
       "      <td>we always try to bring the heavy   metal  rt</td>\n",
       "      <td>0</td>\n",
       "    </tr>\n",
       "    <tr>\n",
       "      <th>33</th>\n",
       "      <td>50</td>\n",
       "      <td>ablaze</td>\n",
       "      <td>AFRICA</td>\n",
       "      <td>africanbaze  breaking news nigeria flag set a...</td>\n",
       "      <td>1</td>\n",
       "    </tr>\n",
       "    <tr>\n",
       "      <th>34</th>\n",
       "      <td>52</td>\n",
       "      <td>ablaze</td>\n",
       "      <td>Philadelphia, PA</td>\n",
       "      <td>crying out for more! set me ablaze</td>\n",
       "      <td>0</td>\n",
       "    </tr>\n",
       "    <tr>\n",
       "      <th>35</th>\n",
       "      <td>53</td>\n",
       "      <td>ablaze</td>\n",
       "      <td>London, UK</td>\n",
       "      <td>on plus side look at the sky last night it was...</td>\n",
       "      <td>0</td>\n",
       "    </tr>\n",
       "  </tbody>\n",
       "</table>\n",
       "</div>"
      ],
      "text/plain": [
       "    id keyword                       location  \\\n",
       "31  48  ablaze                     Birmingham   \n",
       "32  49  ablaze  Est. September 2012 - Bristol   \n",
       "33  50  ablaze                         AFRICA   \n",
       "34  52  ablaze               Philadelphia, PA   \n",
       "35  53  ablaze                     London, UK   \n",
       "\n",
       "                                                 text  target  \n",
       "31                          wholesale markets ablaze        1  \n",
       "32      we always try to bring the heavy   metal  rt        0  \n",
       "33   africanbaze  breaking news nigeria flag set a...       1  \n",
       "34                 crying out for more! set me ablaze       0  \n",
       "35  on plus side look at the sky last night it was...       0  "
      ]
     },
     "execution_count": 14,
     "metadata": {},
     "output_type": "execute_result"
    }
   ],
   "source": [
    "#Cleaning the data\n",
    "def standardize_text(df, text_field):\n",
    "    df[text_field] = df[text_field].str.replace(r\"http\\S+\", \"\")\n",
    "    df[text_field] = df[text_field].str.replace(r\"http\", \"\")\n",
    "    df[text_field] = df[text_field].str.replace(r\"@\\S+\", \"\")\n",
    "    df[text_field] = df[text_field].str.replace(r\"[^A-Za-z0-9(),!?@\\'\\`\\\"\\_\\n]\", \" \")\n",
    "    df[text_field] = df[text_field].str.replace(r\"@\", \"at\")\n",
    "    df[text_field] = df[text_field].str.lower()\n",
    "    return df\n",
    "\n",
    "data = standardize_text(data, \"text\")\n",
    "\n",
    "data.head()"
   ]
  },
  {
   "cell_type": "code",
   "execution_count": 15,
   "id": "9ff70d5c",
   "metadata": {
    "execution": {
     "iopub.execute_input": "2023-07-31T04:42:30.905939Z",
     "iopub.status.busy": "2023-07-31T04:42:30.905245Z",
     "iopub.status.idle": "2023-07-31T04:42:30.924063Z",
     "shell.execute_reply": "2023-07-31T04:42:30.922820Z"
    },
    "papermill": {
     "duration": 0.036021,
     "end_time": "2023-07-31T04:42:30.926605",
     "exception": false,
     "start_time": "2023-07-31T04:42:30.890584",
     "status": "completed"
    },
    "tags": []
   },
   "outputs": [
    {
     "data": {
      "text/html": [
       "<div>\n",
       "<style scoped>\n",
       "    .dataframe tbody tr th:only-of-type {\n",
       "        vertical-align: middle;\n",
       "    }\n",
       "\n",
       "    .dataframe tbody tr th {\n",
       "        vertical-align: top;\n",
       "    }\n",
       "\n",
       "    .dataframe thead th {\n",
       "        text-align: right;\n",
       "    }\n",
       "</style>\n",
       "<table border=\"1\" class=\"dataframe\">\n",
       "  <thead>\n",
       "    <tr style=\"text-align: right;\">\n",
       "      <th></th>\n",
       "      <th>id</th>\n",
       "      <th>keyword</th>\n",
       "      <th>location</th>\n",
       "      <th>text</th>\n",
       "    </tr>\n",
       "    <tr>\n",
       "      <th>target</th>\n",
       "      <th></th>\n",
       "      <th></th>\n",
       "      <th></th>\n",
       "      <th></th>\n",
       "    </tr>\n",
       "  </thead>\n",
       "  <tbody>\n",
       "    <tr>\n",
       "      <th>0</th>\n",
       "      <td>2884</td>\n",
       "      <td>2884</td>\n",
       "      <td>2884</td>\n",
       "      <td>2884</td>\n",
       "    </tr>\n",
       "    <tr>\n",
       "      <th>1</th>\n",
       "      <td>2196</td>\n",
       "      <td>2196</td>\n",
       "      <td>2196</td>\n",
       "      <td>2196</td>\n",
       "    </tr>\n",
       "  </tbody>\n",
       "</table>\n",
       "</div>"
      ],
      "text/plain": [
       "          id  keyword  location  text\n",
       "target                               \n",
       "0       2884     2884      2884  2884\n",
       "1       2196     2196      2196  2196"
      ]
     },
     "execution_count": 15,
     "metadata": {},
     "output_type": "execute_result"
    }
   ],
   "source": [
    "#Checking the balence of our classes\n",
    "data.groupby(\"target\").count()"
   ]
  },
  {
   "cell_type": "code",
   "execution_count": 16,
   "id": "05aa3504",
   "metadata": {
    "execution": {
     "iopub.execute_input": "2023-07-31T04:42:30.955222Z",
     "iopub.status.busy": "2023-07-31T04:42:30.954828Z",
     "iopub.status.idle": "2023-07-31T04:42:30.969406Z",
     "shell.execute_reply": "2023-07-31T04:42:30.968306Z"
    },
    "papermill": {
     "duration": 0.031793,
     "end_time": "2023-07-31T04:42:30.972185",
     "exception": false,
     "start_time": "2023-07-31T04:42:30.940392",
     "status": "completed"
    },
    "tags": []
   },
   "outputs": [],
   "source": [
    "#Since the blance is not equal, we are making it equal\n",
    "data_target_0 = data[data['target'] == 0]\n",
    "data_target_1 = data[data['target'] == 1]\n",
    "\n",
    "# Find the number of samples in the minority class\n",
    "n_samples = min(len(data_target_0), len(data_target_1))\n",
    "\n",
    "# Randomly sample from the majority class to get the same number of samples as the minority class\n",
    "data_target_0 = data_target_0.sample(n=n_samples, random_state=0)\n",
    "data_target_1 = data_target_1.sample(n=n_samples, random_state=0)\n",
    "\n",
    "# Concatenate the two DataFrames to get the final balanced DataFrame\n",
    "data = pd.concat([data_target_0, data_target_1])\n",
    "data.reset_index(drop=True, inplace=True)"
   ]
  },
  {
   "cell_type": "code",
   "execution_count": 17,
   "id": "134367b7",
   "metadata": {
    "execution": {
     "iopub.execute_input": "2023-07-31T04:42:31.002206Z",
     "iopub.status.busy": "2023-07-31T04:42:31.001781Z",
     "iopub.status.idle": "2023-07-31T04:42:31.019443Z",
     "shell.execute_reply": "2023-07-31T04:42:31.018338Z"
    },
    "papermill": {
     "duration": 0.036247,
     "end_time": "2023-07-31T04:42:31.022089",
     "exception": false,
     "start_time": "2023-07-31T04:42:30.985842",
     "status": "completed"
    },
    "tags": []
   },
   "outputs": [
    {
     "data": {
      "text/html": [
       "<div>\n",
       "<style scoped>\n",
       "    .dataframe tbody tr th:only-of-type {\n",
       "        vertical-align: middle;\n",
       "    }\n",
       "\n",
       "    .dataframe tbody tr th {\n",
       "        vertical-align: top;\n",
       "    }\n",
       "\n",
       "    .dataframe thead th {\n",
       "        text-align: right;\n",
       "    }\n",
       "</style>\n",
       "<table border=\"1\" class=\"dataframe\">\n",
       "  <thead>\n",
       "    <tr style=\"text-align: right;\">\n",
       "      <th></th>\n",
       "      <th>id</th>\n",
       "      <th>keyword</th>\n",
       "      <th>location</th>\n",
       "      <th>text</th>\n",
       "      <th>target</th>\n",
       "    </tr>\n",
       "  </thead>\n",
       "  <tbody>\n",
       "    <tr>\n",
       "      <th>0</th>\n",
       "      <td>2752</td>\n",
       "      <td>crushed</td>\n",
       "      <td>Liberty Lake, WA</td>\n",
       "      <td>'13 m  chapoutier crozes hermitage so much pur...</td>\n",
       "      <td>0</td>\n",
       "    </tr>\n",
       "    <tr>\n",
       "      <th>1</th>\n",
       "      <td>5249</td>\n",
       "      <td>fatality</td>\n",
       "      <td>TX</td>\n",
       "      <td>fatality scary af  probably not the best falco...</td>\n",
       "      <td>0</td>\n",
       "    </tr>\n",
       "    <tr>\n",
       "      <th>2</th>\n",
       "      <td>819</td>\n",
       "      <td>battle</td>\n",
       "      <td>West Richland, WA</td>\n",
       "      <td>interested to see who will win this battle</td>\n",
       "      <td>0</td>\n",
       "    </tr>\n",
       "    <tr>\n",
       "      <th>3</th>\n",
       "      <td>8837</td>\n",
       "      <td>sirens</td>\n",
       "      <td>Australia</td>\n",
       "      <td>marketforce   s    cat shark    wins sirens ro...</td>\n",
       "      <td>0</td>\n",
       "    </tr>\n",
       "    <tr>\n",
       "      <th>4</th>\n",
       "      <td>438</td>\n",
       "      <td>apocalypse</td>\n",
       "      <td>Las Vegas</td>\n",
       "      <td>i know where to go when the zombies take over!!</td>\n",
       "      <td>0</td>\n",
       "    </tr>\n",
       "    <tr>\n",
       "      <th>...</th>\n",
       "      <td>...</td>\n",
       "      <td>...</td>\n",
       "      <td>...</td>\n",
       "      <td>...</td>\n",
       "      <td>...</td>\n",
       "    </tr>\n",
       "    <tr>\n",
       "      <th>4387</th>\n",
       "      <td>5148</td>\n",
       "      <td>fatal</td>\n",
       "      <td>Also follow ?</td>\n",
       "      <td>boy 11 charged with manslaughter in shooting d...</td>\n",
       "      <td>1</td>\n",
       "    </tr>\n",
       "    <tr>\n",
       "      <th>4388</th>\n",
       "      <td>8633</td>\n",
       "      <td>seismic</td>\n",
       "      <td>Mogadishu, Somalia</td>\n",
       "      <td>exploration takes seismic shift in  gabon to  ...</td>\n",
       "      <td>1</td>\n",
       "    </tr>\n",
       "    <tr>\n",
       "      <th>4389</th>\n",
       "      <td>4077</td>\n",
       "      <td>displaced</td>\n",
       "      <td>Pedophile hunting ground</td>\n",
       "      <td>potus  strategicpatience is a strategy for  g...</td>\n",
       "      <td>1</td>\n",
       "    </tr>\n",
       "    <tr>\n",
       "      <th>4390</th>\n",
       "      <td>4356</td>\n",
       "      <td>earthquake</td>\n",
       "      <td>One World</td>\n",
       "      <td>some of the aftershocks can be just as big as ...</td>\n",
       "      <td>1</td>\n",
       "    </tr>\n",
       "    <tr>\n",
       "      <th>4391</th>\n",
       "      <td>8147</td>\n",
       "      <td>rescuers</td>\n",
       "      <td>#iminchina</td>\n",
       "      <td>video  'we're picking up bodies from water'   ...</td>\n",
       "      <td>1</td>\n",
       "    </tr>\n",
       "  </tbody>\n",
       "</table>\n",
       "<p>4392 rows × 5 columns</p>\n",
       "</div>"
      ],
      "text/plain": [
       "        id     keyword                  location  \\\n",
       "0     2752     crushed          Liberty Lake, WA   \n",
       "1     5249    fatality                        TX   \n",
       "2      819      battle         West Richland, WA   \n",
       "3     8837      sirens                 Australia   \n",
       "4      438  apocalypse                 Las Vegas   \n",
       "...    ...         ...                       ...   \n",
       "4387  5148       fatal             Also follow ?   \n",
       "4388  8633     seismic        Mogadishu, Somalia   \n",
       "4389  4077   displaced  Pedophile hunting ground   \n",
       "4390  4356  earthquake                 One World   \n",
       "4391  8147    rescuers                #iminchina   \n",
       "\n",
       "                                                   text  target  \n",
       "0     '13 m  chapoutier crozes hermitage so much pur...       0  \n",
       "1     fatality scary af  probably not the best falco...       0  \n",
       "2            interested to see who will win this battle       0  \n",
       "3     marketforce   s    cat shark    wins sirens ro...       0  \n",
       "4      i know where to go when the zombies take over!!        0  \n",
       "...                                                 ...     ...  \n",
       "4387  boy 11 charged with manslaughter in shooting d...       1  \n",
       "4388  exploration takes seismic shift in  gabon to  ...       1  \n",
       "4389   potus  strategicpatience is a strategy for  g...       1  \n",
       "4390  some of the aftershocks can be just as big as ...       1  \n",
       "4391  video  'we're picking up bodies from water'   ...       1  \n",
       "\n",
       "[4392 rows x 5 columns]"
      ]
     },
     "execution_count": 17,
     "metadata": {},
     "output_type": "execute_result"
    }
   ],
   "source": [
    "data"
   ]
  },
  {
   "cell_type": "code",
   "execution_count": 18,
   "id": "99e511e0",
   "metadata": {
    "execution": {
     "iopub.execute_input": "2023-07-31T04:42:31.051231Z",
     "iopub.status.busy": "2023-07-31T04:42:31.050835Z",
     "iopub.status.idle": "2023-07-31T04:42:31.104403Z",
     "shell.execute_reply": "2023-07-31T04:42:31.103463Z"
    },
    "papermill": {
     "duration": 0.071193,
     "end_time": "2023-07-31T04:42:31.106975",
     "exception": false,
     "start_time": "2023-07-31T04:42:31.035782",
     "status": "completed"
    },
    "tags": []
   },
   "outputs": [
    {
     "data": {
      "text/html": [
       "<div>\n",
       "<style scoped>\n",
       "    .dataframe tbody tr th:only-of-type {\n",
       "        vertical-align: middle;\n",
       "    }\n",
       "\n",
       "    .dataframe tbody tr th {\n",
       "        vertical-align: top;\n",
       "    }\n",
       "\n",
       "    .dataframe thead th {\n",
       "        text-align: right;\n",
       "    }\n",
       "</style>\n",
       "<table border=\"1\" class=\"dataframe\">\n",
       "  <thead>\n",
       "    <tr style=\"text-align: right;\">\n",
       "      <th></th>\n",
       "      <th>id</th>\n",
       "      <th>keyword</th>\n",
       "      <th>location</th>\n",
       "      <th>text</th>\n",
       "      <th>target</th>\n",
       "      <th>tokens</th>\n",
       "    </tr>\n",
       "  </thead>\n",
       "  <tbody>\n",
       "    <tr>\n",
       "      <th>0</th>\n",
       "      <td>2752</td>\n",
       "      <td>crushed</td>\n",
       "      <td>Liberty Lake, WA</td>\n",
       "      <td>'13 m  chapoutier crozes hermitage so much pur...</td>\n",
       "      <td>0</td>\n",
       "      <td>[13, m, chapoutier, crozes, hermitage, so, muc...</td>\n",
       "    </tr>\n",
       "    <tr>\n",
       "      <th>1</th>\n",
       "      <td>5249</td>\n",
       "      <td>fatality</td>\n",
       "      <td>TX</td>\n",
       "      <td>fatality scary af  probably not the best falco...</td>\n",
       "      <td>0</td>\n",
       "      <td>[fatality, scary, af, probably, not, the, best...</td>\n",
       "    </tr>\n",
       "    <tr>\n",
       "      <th>2</th>\n",
       "      <td>819</td>\n",
       "      <td>battle</td>\n",
       "      <td>West Richland, WA</td>\n",
       "      <td>interested to see who will win this battle</td>\n",
       "      <td>0</td>\n",
       "      <td>[interested, to, see, who, will, win, this, ba...</td>\n",
       "    </tr>\n",
       "    <tr>\n",
       "      <th>3</th>\n",
       "      <td>8837</td>\n",
       "      <td>sirens</td>\n",
       "      <td>Australia</td>\n",
       "      <td>marketforce   s    cat shark    wins sirens ro...</td>\n",
       "      <td>0</td>\n",
       "      <td>[marketforce, s, cat, shark, wins, sirens, rou...</td>\n",
       "    </tr>\n",
       "    <tr>\n",
       "      <th>4</th>\n",
       "      <td>438</td>\n",
       "      <td>apocalypse</td>\n",
       "      <td>Las Vegas</td>\n",
       "      <td>i know where to go when the zombies take over!!</td>\n",
       "      <td>0</td>\n",
       "      <td>[i, know, where, to, go, when, the, zombies, t...</td>\n",
       "    </tr>\n",
       "  </tbody>\n",
       "</table>\n",
       "</div>"
      ],
      "text/plain": [
       "     id     keyword           location  \\\n",
       "0  2752     crushed   Liberty Lake, WA   \n",
       "1  5249    fatality                 TX   \n",
       "2   819      battle  West Richland, WA   \n",
       "3  8837      sirens          Australia   \n",
       "4   438  apocalypse          Las Vegas   \n",
       "\n",
       "                                                text  target  \\\n",
       "0  '13 m  chapoutier crozes hermitage so much pur...       0   \n",
       "1  fatality scary af  probably not the best falco...       0   \n",
       "2         interested to see who will win this battle       0   \n",
       "3  marketforce   s    cat shark    wins sirens ro...       0   \n",
       "4   i know where to go when the zombies take over!!        0   \n",
       "\n",
       "                                              tokens  \n",
       "0  [13, m, chapoutier, crozes, hermitage, so, muc...  \n",
       "1  [fatality, scary, af, probably, not, the, best...  \n",
       "2  [interested, to, see, who, will, win, this, ba...  \n",
       "3  [marketforce, s, cat, shark, wins, sirens, rou...  \n",
       "4  [i, know, where, to, go, when, the, zombies, t...  "
      ]
     },
     "execution_count": 18,
     "metadata": {},
     "output_type": "execute_result"
    }
   ],
   "source": [
    "from nltk.tokenize import RegexpTokenizer\n",
    "\n",
    "tokenizer = RegexpTokenizer(r'\\w+')\n",
    "\n",
    "data[\"tokens\"] = data[\"text\"].apply(tokenizer.tokenize)\n",
    "data.head()"
   ]
  },
  {
   "cell_type": "code",
   "execution_count": 19,
   "id": "71d049f2",
   "metadata": {
    "execution": {
     "iopub.execute_input": "2023-07-31T04:42:31.137100Z",
     "iopub.status.busy": "2023-07-31T04:42:31.136687Z",
     "iopub.status.idle": "2023-07-31T04:42:31.463994Z",
     "shell.execute_reply": "2023-07-31T04:42:31.462555Z"
    },
    "papermill": {
     "duration": 0.34541,
     "end_time": "2023-07-31T04:42:31.466757",
     "exception": false,
     "start_time": "2023-07-31T04:42:31.121347",
     "status": "completed"
    },
    "tags": []
   },
   "outputs": [
    {
     "data": {
      "image/png": "[encoded data removed]",
      "text/plain": [
       "<Figure size 1000x1000 with 1 Axes>"
      ]
     },
     "metadata": {},
     "output_type": "display_data"
    }
   ],
   "source": [
    "fig = plt.figure(figsize=(10,10))\n",
    "sent = [len(tokens) for tokens in data['tokens']]\n",
    "plt.hist(sent)\n",
    "plt.show()"
   ]
  },
  {
   "cell_type": "code",
   "execution_count": 20,
   "id": "8bfb51d6",
   "metadata": {
    "execution": {
     "iopub.execute_input": "2023-07-31T04:42:31.498833Z",
     "iopub.status.busy": "2023-07-31T04:42:31.498411Z",
     "iopub.status.idle": "2023-07-31T04:42:31.621817Z",
     "shell.execute_reply": "2023-07-31T04:42:31.620544Z"
    },
    "papermill": {
     "duration": 0.142089,
     "end_time": "2023-07-31T04:42:31.624728",
     "exception": false,
     "start_time": "2023-07-31T04:42:31.482639",
     "status": "completed"
    },
    "tags": []
   },
   "outputs": [],
   "source": [
    "#Lemmatization\n",
    "import re\n",
    "import nltk\n",
    "from nltk.stem import WordNetLemmatizer\n",
    "corpus = []\n",
    "for i in range(0, data.shape[0]):\n",
    "  review = re.sub('[^a-zA-Z]', ' ', data['text'][i])\n",
    "  review = review.lower()\n",
    "  review = review.split()\n",
    "  lemmatizer = WordNetLemmatizer()\n",
    "  review = ' '.join(review)\n",
    "  corpus.append(review)"
   ]
  },
  {
   "cell_type": "code",
   "execution_count": 21,
   "id": "8450ce32",
   "metadata": {
    "execution": {
     "iopub.execute_input": "2023-07-31T04:42:31.657120Z",
     "iopub.status.busy": "2023-07-31T04:42:31.656674Z",
     "iopub.status.idle": "2023-07-31T04:42:31.825649Z",
     "shell.execute_reply": "2023-07-31T04:42:31.824596Z"
    },
    "papermill": {
     "duration": 0.187858,
     "end_time": "2023-07-31T04:42:31.828168",
     "exception": false,
     "start_time": "2023-07-31T04:42:31.640310",
     "status": "completed"
    },
    "tags": []
   },
   "outputs": [
    {
     "data": {
      "text/plain": [
       "array([[0, 0, 0, ..., 0, 0, 0],\n",
       "       [0, 0, 0, ..., 0, 0, 0],\n",
       "       [0, 0, 0, ..., 0, 0, 0],\n",
       "       ...,\n",
       "       [0, 0, 0, ..., 0, 0, 0],\n",
       "       [0, 0, 0, ..., 0, 0, 0],\n",
       "       [0, 0, 0, ..., 0, 0, 0]])"
      ]
     },
     "execution_count": 21,
     "metadata": {},
     "output_type": "execute_result"
    }
   ],
   "source": [
    "#Feature extraction using CountVectorizer\n",
    "from sklearn.feature_extraction.text import CountVectorizer\n",
    "cv = CountVectorizer(max_features = 1500,stop_words='english')\n",
    "X = cv.fit_transform(corpus).toarray()\n",
    "y = data['target']\n",
    "X"
   ]
  },
  {
   "cell_type": "code",
   "execution_count": 22,
   "id": "225d1b51",
   "metadata": {
    "execution": {
     "iopub.execute_input": "2023-07-31T04:42:31.859519Z",
     "iopub.status.busy": "2023-07-31T04:42:31.859122Z",
     "iopub.status.idle": "2023-07-31T04:42:31.866307Z",
     "shell.execute_reply": "2023-07-31T04:42:31.865168Z"
    },
    "papermill": {
     "duration": 0.025498,
     "end_time": "2023-07-31T04:42:31.868707",
     "exception": false,
     "start_time": "2023-07-31T04:42:31.843209",
     "status": "completed"
    },
    "tags": []
   },
   "outputs": [
    {
     "data": {
      "text/plain": [
       "1500"
      ]
     },
     "execution_count": 22,
     "metadata": {},
     "output_type": "execute_result"
    }
   ],
   "source": [
    "len(X[0])"
   ]
  },
  {
   "cell_type": "code",
   "execution_count": 23,
   "id": "50f4d948",
   "metadata": {
    "execution": {
     "iopub.execute_input": "2023-07-31T04:42:31.900267Z",
     "iopub.status.busy": "2023-07-31T04:42:31.899339Z",
     "iopub.status.idle": "2023-07-31T04:42:31.936121Z",
     "shell.execute_reply": "2023-07-31T04:42:31.934794Z"
    },
    "papermill": {
     "duration": 0.055729,
     "end_time": "2023-07-31T04:42:31.939011",
     "exception": false,
     "start_time": "2023-07-31T04:42:31.883282",
     "status": "completed"
    },
    "tags": []
   },
   "outputs": [],
   "source": [
    "#Splitting the data into training and testing sets\n",
    "from sklearn.model_selection import train_test_split\n",
    "X_train, X_test, y_train, y_test = train_test_split(X, y, test_size = 0.25, random_state = 0)"
   ]
  },
  {
   "cell_type": "code",
   "execution_count": 24,
   "id": "553d9288",
   "metadata": {
    "execution": {
     "iopub.execute_input": "2023-07-31T04:42:31.971359Z",
     "iopub.status.busy": "2023-07-31T04:42:31.970922Z",
     "iopub.status.idle": "2023-07-31T04:42:31.978965Z",
     "shell.execute_reply": "2023-07-31T04:42:31.977648Z"
    },
    "papermill": {
     "duration": 0.026832,
     "end_time": "2023-07-31T04:42:31.981426",
     "exception": false,
     "start_time": "2023-07-31T04:42:31.954594",
     "status": "completed"
    },
    "tags": []
   },
   "outputs": [
    {
     "data": {
      "text/plain": [
       "array([[0, 0, 0, ..., 0, 0, 0],\n",
       "       [0, 0, 0, ..., 0, 0, 0],\n",
       "       [0, 0, 0, ..., 0, 0, 0],\n",
       "       ...,\n",
       "       [0, 0, 0, ..., 0, 0, 0],\n",
       "       [1, 0, 0, ..., 0, 0, 0],\n",
       "       [0, 0, 0, ..., 0, 0, 0]])"
      ]
     },
     "execution_count": 24,
     "metadata": {},
     "output_type": "execute_result"
    }
   ],
   "source": [
    "X_train"
   ]
  },
  {
   "cell_type": "markdown",
   "id": "8ab50ecc",
   "metadata": {
    "papermill": {
     "duration": 0.016541,
     "end_time": "2023-07-31T04:42:32.013014",
     "exception": false,
     "start_time": "2023-07-31T04:42:31.996473",
     "status": "completed"
    },
    "tags": []
   },
   "source": [
    "Model selection"
   ]
  },
  {
   "cell_type": "code",
   "execution_count": 25,
   "id": "d1585ce9",
   "metadata": {
    "execution": {
     "iopub.execute_input": "2023-07-31T04:42:32.044469Z",
     "iopub.status.busy": "2023-07-31T04:42:32.044069Z",
     "iopub.status.idle": "2023-07-31T04:42:53.472880Z",
     "shell.execute_reply": "2023-07-31T04:42:53.471292Z"
    },
    "papermill": {
     "duration": 21.449809,
     "end_time": "2023-07-31T04:42:53.477823",
     "exception": false,
     "start_time": "2023-07-31T04:42:32.028014",
     "status": "completed"
    },
    "tags": []
   },
   "outputs": [
    {
     "name": "stdout",
     "output_type": "stream",
     "text": [
      "GaussianNB 0.7040072859744991\n",
      "SVC 0.785063752276867\n",
      "CART 0.7176684881602914\n",
      "Maximum Entropy 0.7604735883424408\n"
     ]
    }
   ],
   "source": [
    "#Training the dataset with different models\n",
    "from sklearn.naive_bayes import GaussianNB\n",
    "from sklearn.metrics import confusion_matrix, accuracy_score\n",
    "from sklearn.svm import SVC\n",
    "from sklearn.tree import DecisionTreeClassifier\n",
    "from sklearn.linear_model import LogisticRegression\n",
    "\n",
    "svc = SVC()\n",
    "gaussian = GaussianNB()\n",
    "cart_model = DecisionTreeClassifier(criterion='gini', random_state=0)\n",
    "maxent_model = LogisticRegression(multi_class='multinomial', solver='lbfgs', random_state=0,max_iter=1000)\n",
    "\n",
    "model_list = {'GaussianNB':gaussian,'SVC':svc,'CART': cart_model , 'Maximum Entropy': maxent_model}\n",
    "\n",
    "\n",
    "for model_name,model in model_list.items():\n",
    "    model.fit(X_train, y_train)\n",
    "    y_pred = model.predict(X_test)\n",
    "    print(model_name,accuracy_score(y_test, y_pred))"
   ]
  },
  {
   "cell_type": "code",
   "execution_count": 26,
   "id": "b207916e",
   "metadata": {
    "execution": {
     "iopub.execute_input": "2023-07-31T04:42:53.544306Z",
     "iopub.status.busy": "2023-07-31T04:42:53.543598Z",
     "iopub.status.idle": "2023-07-31T04:43:09.506128Z",
     "shell.execute_reply": "2023-07-31T04:43:09.504810Z"
    },
    "papermill": {
     "duration": 15.999502,
     "end_time": "2023-07-31T04:43:09.509368",
     "exception": false,
     "start_time": "2023-07-31T04:42:53.509866",
     "status": "completed"
    },
    "tags": []
   },
   "outputs": [
    {
     "name": "stdout",
     "output_type": "stream",
     "text": [
      "0.785063752276867\n"
     ]
    }
   ],
   "source": [
    "final_model = SVC()\n",
    "final_model.fit(X_train,y_train)\n",
    "y_pred = final_model.predict(X_test)\n",
    "print(accuracy_score(y_test, y_pred))"
   ]
  },
  {
   "cell_type": "code",
   "execution_count": 27,
   "id": "16213dfb",
   "metadata": {
    "execution": {
     "iopub.execute_input": "2023-07-31T04:43:09.542904Z",
     "iopub.status.busy": "2023-07-31T04:43:09.542405Z",
     "iopub.status.idle": "2023-07-31T04:43:25.535933Z",
     "shell.execute_reply": "2023-07-31T04:43:25.534816Z"
    },
    "papermill": {
     "duration": 16.012787,
     "end_time": "2023-07-31T04:43:25.538592",
     "exception": false,
     "start_time": "2023-07-31T04:43:09.525805",
     "status": "completed"
    },
    "tags": []
   },
   "outputs": [
    {
     "data": {
      "text/plain": [
       "0.9262295081967213"
      ]
     },
     "execution_count": 27,
     "metadata": {},
     "output_type": "execute_result"
    }
   ],
   "source": [
    "final_model.score(X_train, y_train)"
   ]
  },
  {
   "cell_type": "code",
   "execution_count": 28,
   "id": "b58afa23",
   "metadata": {
    "execution": {
     "iopub.execute_input": "2023-07-31T04:43:25.571346Z",
     "iopub.status.busy": "2023-07-31T04:43:25.570550Z",
     "iopub.status.idle": "2023-07-31T04:43:30.510145Z",
     "shell.execute_reply": "2023-07-31T04:43:30.508906Z"
    },
    "papermill": {
     "duration": 4.958776,
     "end_time": "2023-07-31T04:43:30.512895",
     "exception": false,
     "start_time": "2023-07-31T04:43:25.554119",
     "status": "completed"
    },
    "tags": []
   },
   "outputs": [
    {
     "data": {
      "text/plain": [
       "0.785063752276867"
      ]
     },
     "execution_count": 28,
     "metadata": {},
     "output_type": "execute_result"
    }
   ],
   "source": [
    "final_model.score(X_test, y_test)"
   ]
  },
  {
   "cell_type": "code",
   "execution_count": 29,
   "id": "ae655726",
   "metadata": {
    "execution": {
     "iopub.execute_input": "2023-07-31T04:43:30.546567Z",
     "iopub.status.busy": "2023-07-31T04:43:30.545470Z",
     "iopub.status.idle": "2023-07-31T04:43:30.565028Z",
     "shell.execute_reply": "2023-07-31T04:43:30.563355Z"
    },
    "papermill": {
     "duration": 0.039447,
     "end_time": "2023-07-31T04:43:30.568077",
     "exception": false,
     "start_time": "2023-07-31T04:43:30.528630",
     "status": "completed"
    },
    "tags": []
   },
   "outputs": [
    {
     "name": "stdout",
     "output_type": "stream",
     "text": [
      "              precision    recall  f1-score   support\n",
      "\n",
      "           0       0.76      0.84      0.80       558\n",
      "           1       0.82      0.73      0.77       540\n",
      "\n",
      "    accuracy                           0.79      1098\n",
      "   macro avg       0.79      0.78      0.78      1098\n",
      "weighted avg       0.79      0.79      0.78      1098\n",
      "\n"
     ]
    }
   ],
   "source": [
    "from sklearn.metrics import classification_report, confusion_matrix, accuracy_score\n",
    "\n",
    "print(classification_report(y_test, y_pred))"
   ]
  }
 ],
 "metadata": {
  "kernelspec": {
   "display_name": "Python 3",
   "language": "python",
   "name": "python3"
  },
  "language_info": {
   "codemirror_mode": {
    "name": "ipython",
    "version": 3
   },
   "file_extension": ".py",
   "mimetype": "text/x-python",
   "name": "python",
   "nbconvert_exporter": "python",
   "pygments_lexer": "ipython3",
   "version": "3.10.10"
  },
  "papermill": {
   "default_parameters": {},
   "duration": 80.523645,
   "end_time": "2023-07-31T04:43:31.809503",
   "environment_variables": {},
   "exception": null,
   "input_path": "__notebook__.ipynb",
   "output_path": "__notebook__.ipynb",
   "parameters": {},
   "start_time": "2023-07-31T04:42:11.285858",
   "version": "2.4.0"
  }
 },
 "nbformat": 4,
 "nbformat_minor": 5
}
